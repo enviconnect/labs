{
 "cells": [
  {
   "cell_type": "code",
   "execution_count": null,
   "metadata": {},
   "outputs": [],
   "source": [
    "import yaml\n",
    "from yaml.loader import SafeLoader\n",
    "\n",
    "def yaml_loader():\n",
    "  try:\n",
    "    with open(\"facilities_a_o.yaml\", \"r\") as stream:\n",
    "       data = yaml.load(stream, Loader=yaml.FullLoader)\n",
    "       print(data[\"features\"])\n",
    "       for feature in data[\"features\"]:\n",
    "          with open(feature['properties']['name'] + '.yaml', 'a') as outfile:\n",
    "              # if you put the variable \"workload\" in a list, you get the '-' in the yaml, as it denotes a list item.\n",
    "              yaml.dump([feature], outfile)\n",
    "  except yaml.YAMLError as out:\n",
    "    print(out)\n",
    "\n",
    "yaml_loader()"
   ]
  },
  {
   "cell_type": "code",
   "execution_count": null,
   "metadata": {},
   "outputs": [],
   "source": [
    "print(yaml_loader())"
   ]
  }
 ],
 "metadata": {
  "kernelspec": {
   "display_name": "Python 3.8.1 ('.venv': venv)",
   "language": "python",
   "name": "python3"
  },
  "language_info": {
   "codemirror_mode": {
    "name": "ipython",
    "version": 3
   },
   "file_extension": ".py",
   "mimetype": "text/x-python",
   "name": "python",
   "nbconvert_exporter": "python",
   "pygments_lexer": "ipython3",
   "version": "3.8.1"
  },
  "orig_nbformat": 4,
  "vscode": {
   "interpreter": {
    "hash": "e209ea98404389b586f00ffbbe31449eebc68503f6f141f57220d6c0fc4eefc3"
   }
  }
 },
 "nbformat": 4,
 "nbformat_minor": 2
}
