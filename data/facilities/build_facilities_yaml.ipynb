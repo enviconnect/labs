{
 "cells": [
  {
   "cell_type": "code",
   "execution_count": 33,
   "metadata": {},
   "outputs": [],
   "source": [
    "import os\n",
    "import glob\n",
    "\n",
    "facilities_out = \"facilities.yaml\"\n",
    "os.remove(facilities_out)\n",
    "\n",
    "facilities_in = glob.glob(\"*.yaml\")\n",
    "\n",
    "with open(facilities_out, 'w') as f_out:\n",
    "    f_out.write(\"---\\n\")\n",
    "    f_out.write(\"type: FeatureCollection\\n\")\n",
    "    f_out.write(\"features:\\n\")\n",
    "\n",
    "with open(facilities_out, 'a') as f_out:\n",
    "    for fname in facilities_in:\n",
    "        with open(fname, 'r') as readfile:\n",
    "            f_out.write(readfile.read() + \"\\n\\n\")"
   ]
  }
 ],
 "metadata": {
  "kernelspec": {
   "display_name": "Python 3.8.1 ('.venv': venv)",
   "language": "python",
   "name": "python3"
  },
  "language_info": {
   "codemirror_mode": {
    "name": "ipython",
    "version": 3
   },
   "file_extension": ".py",
   "mimetype": "text/x-python",
   "name": "python",
   "nbconvert_exporter": "python",
   "pygments_lexer": "ipython3",
   "version": "3.8.1"
  },
  "orig_nbformat": 4,
  "vscode": {
   "interpreter": {
    "hash": "e209ea98404389b586f00ffbbe31449eebc68503f6f141f57220d6c0fc4eefc3"
   }
  }
 },
 "nbformat": 4,
 "nbformat_minor": 2
}
